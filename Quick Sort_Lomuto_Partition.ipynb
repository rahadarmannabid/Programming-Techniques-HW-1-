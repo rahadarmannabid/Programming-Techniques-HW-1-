{
 "cells": [
  {
   "cell_type": "code",
   "execution_count": 1,
   "id": "c9d608ad",
   "metadata": {},
   "outputs": [],
   "source": [
    "import random\n",
    "import time\n",
    "import matplotlib.pyplot as plt"
   ]
  },
  {
   "cell_type": "code",
   "execution_count": 2,
   "id": "4512ddfb",
   "metadata": {},
   "outputs": [],
   "source": [
    "def lomuto_part(arr, start, end):\n",
    "    index = end\n",
    "    key = arr[index]\n",
    "    i = -1\n",
    "    for j in range(0,index):\n",
    "        if arr[j] <= key:\n",
    "            i = i + 1\n",
    "            arr[i], arr[j] = arr[j], arr[i]\n",
    "            \n",
    "    arr[i + 1], arr[index] = arr[index], arr[i + 1]\n",
    "                   \n",
    "    return i+1\n",
    "    "
   ]
  },
  {
   "cell_type": "code",
   "execution_count": 3,
   "id": "9601a4f2",
   "metadata": {},
   "outputs": [],
   "source": [
    "def Quick_sort(A, start, end):\n",
    "    if start < end: \n",
    "        pivot = lomuto_part(A, start, end)\n",
    "        Quick_sort(A, start , pivot-1 )\n",
    "        Quick_sort (A, pivot + 1, end)\n"
   ]
  },
  {
   "cell_type": "code",
   "execution_count": 4,
   "id": "f5e8426c",
   "metadata": {},
   "outputs": [
    {
     "name": "stdout",
     "output_type": "stream",
     "text": [
      "[0, 1, 2, 3, 3, 4, 10]\n"
     ]
    }
   ],
   "source": [
    "A = [2, 4, 3, 3 , 1, 0, 10]\n",
    "n = len(A)\n",
    "Quick_sort(A, 0, n-1)\n",
    "print(A)"
   ]
  },
  {
   "cell_type": "code",
   "execution_count": 5,
   "id": "c9111be6",
   "metadata": {},
   "outputs": [
    {
     "name": "stdout",
     "output_type": "stream",
     "text": [
      "Best Case Execution time: 3.409385681152344e-05 seconds\n"
     ]
    }
   ],
   "source": [
    "Best_case = [0, 1, 3, 2, 6, 5, 9, 7, 10, 4]\n",
    "length = len(Best_case)\n",
    "\n",
    "n = length - 1\n",
    "st = time.time()\n",
    "Quick_sort(Best_case, 0 , n) \n",
    "et = time.time()\n",
    "elapsed_time = et - st\n",
    "print('Best Case Execution time:', elapsed_time, 'seconds')"
   ]
  },
  {
   "cell_type": "code",
   "execution_count": 6,
   "id": "d3a1b039",
   "metadata": {},
   "outputs": [
    {
     "name": "stdout",
     "output_type": "stream",
     "text": [
      "Worst Case Execution time: 3.6716461181640625e-05 seconds\n"
     ]
    }
   ],
   "source": [
    "worst_case = [10, 9, 8 , 7, 6, 4, 2, 1, 0]\n",
    "length = len(worst_case)\n",
    "n = length - 1\n",
    "\n",
    "st = time.time()\n",
    "Quick_sort(worst_case, 0 , n)\n",
    "et = time.time()\n",
    "elapsed_time = et - st\n",
    "print('Worst Case Execution time:', elapsed_time, 'seconds')"
   ]
  },
  {
   "cell_type": "code",
   "execution_count": 7,
   "id": "5e80fefa",
   "metadata": {},
   "outputs": [
    {
     "name": "stdout",
     "output_type": "stream",
     "text": [
      "Avg Case Execution time: 3.504753112792969e-05 seconds\n"
     ]
    }
   ],
   "source": [
    "avg_case = [0, 1, 2 , 7, 6, 10, 9 ,  8 , 4]\n",
    "length = len(avg_case)\n",
    "n = length - 1\n",
    "\n",
    "st = time.time()\n",
    "Quick_sort(avg_case, 0 , n) \n",
    "et = time.time()\n",
    "elapsed_time = et - st\n",
    "print('Avg Case Execution time:', elapsed_time, 'seconds')\n"
   ]
  },
  {
   "cell_type": "code",
   "execution_count": 8,
   "id": "3d56a9b4",
   "metadata": {},
   "outputs": [
    {
     "name": "stdout",
     "output_type": "stream",
     "text": [
      "When input is 10 : Execution time: 9.059906005859375e-06 seconds\n",
      "When input is 1000 : Execution time: 0.044013023376464844 seconds\n",
      "When input is 5000 : Execution time: 1.1034939289093018 seconds\n",
      "When input is 10000 : Execution time: 4.4688661098480225 seconds\n"
     ]
    }
   ],
   "source": [
    "input_list = [10, 1000, 5000, 10000]\n",
    "time_taken = []\n",
    "for i in input_list:\n",
    "    random.seed(10)\n",
    "    randomlist = random.sample(range(0 , i), i)\n",
    "    length = len(randomlist)\n",
    "    n = length - 1\n",
    "    st = time.time()\n",
    "    Quick_sort(randomlist, 0 , n) \n",
    "    et = time.time()\n",
    "    elapsed_time = et - st\n",
    "    time_taken.append(elapsed_time)\n",
    "    print('When input is', i ,': Execution time:', elapsed_time, 'seconds')"
   ]
  },
  {
   "cell_type": "markdown",
   "id": "309872b0",
   "metadata": {},
   "source": [
    "plt.figure(figsize=(10,20))\n",
    "plt.plot(input_list,time_taken, 'ro')\n",
    "plt.xticks(input_list)\n",
    "plt.yticks(time_taken)\n",
    "plt.xlabel(\"input size\")\n",
    "plt.ylabel(\"time taken for sorting\")\n",
    "plt.savefig('quick_sort_lomuto.png') \n",
    "plt.show()\n",
    "plt.close()"
   ]
  }
 ],
 "metadata": {
  "kernelspec": {
   "display_name": "Python 3 (ipykernel)",
   "language": "python",
   "name": "python3"
  },
  "language_info": {
   "codemirror_mode": {
    "name": "ipython",
    "version": 3
   },
   "file_extension": ".py",
   "mimetype": "text/x-python",
   "name": "python",
   "nbconvert_exporter": "python",
   "pygments_lexer": "ipython3",
   "version": "3.9.12"
  }
 },
 "nbformat": 4,
 "nbformat_minor": 5
}
