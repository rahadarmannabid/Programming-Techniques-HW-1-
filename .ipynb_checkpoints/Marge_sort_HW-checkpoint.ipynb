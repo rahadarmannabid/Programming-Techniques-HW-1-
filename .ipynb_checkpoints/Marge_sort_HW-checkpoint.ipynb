{
 "cells": [
  {
   "cell_type": "code",
   "execution_count": 22,
   "id": "ba62000e",
   "metadata": {},
   "outputs": [],
   "source": [
    "def merge_sort(A, left, right):\n",
    "    if left < right:  \n",
    "        mid  = left + (right - left) //2 \n",
    "        print(A[left: right + 1], left, mid, right)\n",
    "        merge_sort(A, left, mid )\n",
    "        merge_sort(A, mid + 1, right)\n",
    "        merge(A, left, mid, right)"
   ]
  },
  {
   "cell_type": "code",
   "execution_count": 23,
   "id": "1749c328",
   "metadata": {},
   "outputs": [],
   "source": [
    "def merge(arr, l, m, r):\n",
    "    n1 = m - l + 1\n",
    "    n2 = r - m\n",
    "    \n",
    "    L = [0] * (n1)\n",
    "    R = [0] * (n2)\n",
    "\n",
    "    for i in range(0, n1):\n",
    "        L[i] = arr[l + i]\n",
    " \n",
    "    for j in range(0, n2):\n",
    "        R[j] = arr[m + 1 + j]\n",
    "        \n",
    "\n",
    "    i = 0     \n",
    "    j = 0     \n",
    "    k = l     \n",
    " \n",
    "    while i < n1 and j < n2:\n",
    "        if L[i] <= R[j]:\n",
    "            arr[k] = L[i]\n",
    "            i += 1\n",
    "        else:\n",
    "            arr[k] = R[j]\n",
    "            j += 1\n",
    "        k += 1\n",
    " \n",
    "   \n",
    "    \n",
    "    while i < n1:\n",
    "        arr[k] = L[i]\n",
    "        i += 1\n",
    "        k += 1\n",
    " \n",
    "    \n",
    "    while j < n2:\n",
    "        arr[k] = R[j]\n",
    "        j += 1\n",
    "        k += 1\n",
    "    print(arr)"
   ]
  },
  {
   "cell_type": "code",
   "execution_count": 24,
   "id": "9f125681",
   "metadata": {},
   "outputs": [
    {
     "name": "stdout",
     "output_type": "stream",
     "text": [
      "[3, 1, 4, 1, 2, 9, 0, 10] 0 3 7\n",
      "[3, 1, 4, 1] 0 1 3\n",
      "[3, 1] 0 0 1\n",
      "[1, 3, 4, 1, 2, 9, 0, 10]\n",
      "[4, 1] 2 2 3\n",
      "[1, 3, 1, 4, 2, 9, 0, 10]\n",
      "[1, 1, 3, 4, 2, 9, 0, 10]\n",
      "[2, 9, 0, 10] 4 5 7\n",
      "[2, 9] 4 4 5\n",
      "[1, 1, 3, 4, 2, 9, 0, 10]\n",
      "[0, 10] 6 6 7\n",
      "[1, 1, 3, 4, 2, 9, 0, 10]\n",
      "[1, 1, 3, 4, 0, 2, 9, 10]\n",
      "[0, 1, 1, 2, 3, 4, 9, 10]\n"
     ]
    }
   ],
   "source": [
    "arr = [ 3, 1, 4 , 1, 2, 9, 0, 10]\n",
    "length = len(arr)\n",
    "n = length - 1\n",
    "b = [None] * length\n",
    "merge_sort(arr, 0 , n)"
   ]
  },
  {
   "cell_type": "code",
   "execution_count": null,
   "id": "25fa9698",
   "metadata": {},
   "outputs": [],
   "source": []
  }
 ],
 "metadata": {
  "kernelspec": {
   "display_name": "Python 3 (ipykernel)",
   "language": "python",
   "name": "python3"
  },
  "language_info": {
   "codemirror_mode": {
    "name": "ipython",
    "version": 3
   },
   "file_extension": ".py",
   "mimetype": "text/x-python",
   "name": "python",
   "nbconvert_exporter": "python",
   "pygments_lexer": "ipython3",
   "version": "3.9.12"
  }
 },
 "nbformat": 4,
 "nbformat_minor": 5
}
