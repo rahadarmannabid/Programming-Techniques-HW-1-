{
 "cells": [
  {
   "cell_type": "code",
   "execution_count": 105,
   "id": "c9d608ad",
   "metadata": {},
   "outputs": [],
   "source": [
    "def lomuto_part(arr, start, end):\n",
    "    index = end\n",
    "    key = arr[index]\n",
    "    i = -1\n",
    "    for j in range(0,index):\n",
    "        if arr[j] <= key:\n",
    "            i = i + 1\n",
    "            arr[i], arr[j] = arr[j], arr[i]\n",
    "            \n",
    "    arr[i + 1], arr[index] = arr[index], arr[i + 1]\n",
    "\n",
    "        \n",
    "            \n",
    "    return i+1\n",
    "    \n",
    "         "
   ]
  },
  {
   "cell_type": "code",
   "execution_count": 106,
   "id": "9601a4f2",
   "metadata": {},
   "outputs": [],
   "source": [
    "def Quick_sort(A, start, end):\n",
    "    if start < end: \n",
    "        pivot = lomuto_part(A, start, end)\n",
    "        Quick_sort(A, start , pivot-1 )\n",
    "        Quick_sort (A, pivot + 1, end)\n"
   ]
  },
  {
   "cell_type": "code",
   "execution_count": 108,
   "id": "7a067476",
   "metadata": {},
   "outputs": [
    {
     "name": "stdout",
     "output_type": "stream",
     "text": [
      "[0, 1, 2, 3, 3, 4, 10]\n"
     ]
    }
   ],
   "source": [
    "A = [2, 4, 3, 3 , 1, 0, 10]\n",
    "n = len(A)\n",
    "Quick_sort(A, 0, n-1)\n",
    "print(A)"
   ]
  },
  {
   "cell_type": "code",
   "execution_count": null,
   "id": "c9111be6",
   "metadata": {},
   "outputs": [],
   "source": []
  }
 ],
 "metadata": {
  "kernelspec": {
   "display_name": "Python 3 (ipykernel)",
   "language": "python",
   "name": "python3"
  },
  "language_info": {
   "codemirror_mode": {
    "name": "ipython",
    "version": 3
   },
   "file_extension": ".py",
   "mimetype": "text/x-python",
   "name": "python",
   "nbconvert_exporter": "python",
   "pygments_lexer": "ipython3",
   "version": "3.9.12"
  }
 },
 "nbformat": 4,
 "nbformat_minor": 5
}
