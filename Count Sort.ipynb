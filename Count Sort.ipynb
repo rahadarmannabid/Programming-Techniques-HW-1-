{
 "cells": [
  {
   "cell_type": "code",
   "execution_count": 63,
   "id": "ef21a225",
   "metadata": {},
   "outputs": [],
   "source": [
    "def Count_sort(A):\n",
    "    \n",
    "    maximum = max(A) + 1\n",
    "    \n",
    "    C = [0] * maximum \n",
    "    \n",
    "    B = [0] * len(A) \n",
    "    \n",
    "    #print(A, B , C)\n",
    "    \n",
    "    index = len(A)-1\n",
    " \n",
    "    \n",
    "    for i in range( 0 , len(A) ):\n",
    "        C[A[i]]= C[A[i]] + 1\n",
    "    #print(C)\n",
    "        \n",
    "    for j in range( 1 , len(C)):\n",
    "        C[j] = C[j] + C[j-1]\n",
    "    #print(C)\n",
    "    \n",
    "    for k in range(index , -1, -1):\n",
    "        #print(k, A[k],C, C[A[k]], B[C[A[k]]-1] )\n",
    "        B[C[A[k]]-1] = A[k]\n",
    "        C[A[k]] = C[A[k]] - 1 \n",
    "    \n",
    "    return B\n",
    "\n",
    "\n",
    "\n"
   ]
  },
  {
   "cell_type": "code",
   "execution_count": 64,
   "id": "c631ea13",
   "metadata": {},
   "outputs": [
    {
     "data": {
      "text/plain": [
       "[0, 1, 1, 1, 2, 2, 3, 5, 7, 9]"
      ]
     },
     "execution_count": 64,
     "metadata": {},
     "output_type": "execute_result"
    }
   ],
   "source": [
    "A = [2, 3 , 0 , 1, 7, 9, 2, 1 , 1, 5]\n",
    "Count_sort(A)\n",
    "\n"
   ]
  },
  {
   "cell_type": "code",
   "execution_count": null,
   "id": "46273e80",
   "metadata": {},
   "outputs": [],
   "source": []
  },
  {
   "cell_type": "code",
   "execution_count": null,
   "id": "88123d2e",
   "metadata": {},
   "outputs": [],
   "source": []
  },
  {
   "cell_type": "code",
   "execution_count": null,
   "id": "b917b68a",
   "metadata": {},
   "outputs": [],
   "source": []
  }
 ],
 "metadata": {
  "kernelspec": {
   "display_name": "Python 3 (ipykernel)",
   "language": "python",
   "name": "python3"
  },
  "language_info": {
   "codemirror_mode": {
    "name": "ipython",
    "version": 3
   },
   "file_extension": ".py",
   "mimetype": "text/x-python",
   "name": "python",
   "nbconvert_exporter": "python",
   "pygments_lexer": "ipython3",
   "version": "3.9.12"
  }
 },
 "nbformat": 4,
 "nbformat_minor": 5
}
