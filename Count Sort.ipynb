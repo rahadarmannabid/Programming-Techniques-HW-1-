{
 "cells": [
  {
   "cell_type": "code",
   "execution_count": 1,
   "id": "ef21a225",
   "metadata": {},
   "outputs": [],
   "source": [
    "import time \n",
    "import random\n",
    "import matplotlib.pyplot as plt"
   ]
  },
  {
   "cell_type": "code",
   "execution_count": 2,
   "id": "98660f58",
   "metadata": {},
   "outputs": [],
   "source": [
    "def Count_sort(A):\n",
    "    maximum = max(A) + 1\n",
    "    C = [0] * maximum \n",
    "    B = [0] * len(A) \n",
    "    #print(A, B , C)\n",
    "    index = len(A)-1\n",
    "    \n",
    "    for i in range( 0 , len(A) ):\n",
    "        C[A[i]]= C[A[i]] + 1\n",
    "    #print(C)    \n",
    "    for j in range( 1 , len(C)):\n",
    "        C[j] = C[j] + C[j-1]\n",
    "    #print(C)\n",
    "    for k in range(index , -1, -1):\n",
    "        #print(k, A[k],C, C[A[k]], B[C[A[k]]-1] )\n",
    "        B[C[A[k]]-1] = A[k]\n",
    "        C[A[k]] = C[A[k]] - 1 \n",
    "    \n",
    "    return B"
   ]
  },
  {
   "cell_type": "code",
   "execution_count": 3,
   "id": "c631ea13",
   "metadata": {},
   "outputs": [
    {
     "data": {
      "text/plain": [
       "[0, 1, 1, 1, 2, 2, 3, 5, 7, 9]"
      ]
     },
     "execution_count": 3,
     "metadata": {},
     "output_type": "execute_result"
    }
   ],
   "source": [
    "#Check with random data\n",
    "A = [2, 3 , 0 , 1, 7, 9, 2, 1 , 1, 5]\n",
    "Count_sort(A)"
   ]
  },
  {
   "cell_type": "code",
   "execution_count": 4,
   "id": "46273e80",
   "metadata": {},
   "outputs": [
    {
     "name": "stdout",
     "output_type": "stream",
     "text": [
      "Best Case Execution time: 4.792213439941406e-05 seconds\n"
     ]
    }
   ],
   "source": [
    "Best_case = [1]\n",
    "\n",
    "\n",
    "st = time.time()\n",
    "Count_sort(Best_case) \n",
    "et = time.time()\n",
    "elapsed_time = et - st\n",
    "print('Best Case Execution time:', elapsed_time, 'seconds')"
   ]
  },
  {
   "cell_type": "code",
   "execution_count": 5,
   "id": "88123d2e",
   "metadata": {},
   "outputs": [
    {
     "name": "stdout",
     "output_type": "stream",
     "text": [
      "Worst Case Execution time: 5.2928924560546875e-05 seconds\n"
     ]
    }
   ],
   "source": [
    "worst_case = [10, 9, 8 , 7, 6, 4, 2, 1]\n",
    "\n",
    "st = time.time()\n",
    "Count_sort(worst_case)\n",
    "et = time.time()\n",
    "elapsed_time = et - st\n",
    "print('Worst Case Execution time:', elapsed_time, 'seconds')"
   ]
  },
  {
   "cell_type": "code",
   "execution_count": 6,
   "id": "b917b68a",
   "metadata": {},
   "outputs": [
    {
     "name": "stdout",
     "output_type": "stream",
     "text": [
      "Avg Case Execution time: 5.1975250244140625e-05 seconds\n"
     ]
    }
   ],
   "source": [
    "avg_case = [1, 2 , 4, 6, 10, 9 ,  8 , 7]\n",
    "\n",
    "\n",
    "st = time.time()\n",
    "Count_sort(avg_case) \n",
    "et = time.time()\n",
    "elapsed_time = et - st\n",
    "print('Avg Case Execution time:', elapsed_time, 'seconds')"
   ]
  },
  {
   "cell_type": "code",
   "execution_count": 7,
   "id": "92489478",
   "metadata": {},
   "outputs": [
    {
     "name": "stdout",
     "output_type": "stream",
     "text": [
      "When input is 10 : Execution time: 1.1205673217773438e-05 seconds\n",
      "When input is 1000 : Execution time: 0.0006709098815917969 seconds\n",
      "When input is 5000 : Execution time: 0.003467082977294922 seconds\n",
      "When input is 10000 : Execution time: 0.007014751434326172 seconds\n"
     ]
    }
   ],
   "source": [
    "input_list = [10, 1000, 5000, 10000]\n",
    "time_taken = []\n",
    "for i in input_list:\n",
    "    random.seed(10)\n",
    "    randomlist = random.sample(range(0 , i), i)\n",
    "    st = time.time()\n",
    "    Count_sort(randomlist) \n",
    "    et = time.time()\n",
    "    elapsed_time = et - st\n",
    "    time_taken.append(elapsed_time)\n",
    "    print('When input is', i ,': Execution time:', elapsed_time, 'seconds')"
   ]
  },
  {
   "cell_type": "markdown",
   "id": "8286561d",
   "metadata": {},
   "source": [
    "plt.figure(figsize=(10,10))\n",
    "plt.plot(input_list,time_taken, 'ro')\n",
    "plt.xticks(input_list)\n",
    "plt.yticks(time_taken)\n",
    "plt.xlabel(\"input size\")\n",
    "plt.ylabel(\"time taken for sorting\")\n",
    "plt.savefig('count_sort_.png') \n",
    "plt.show()\n",
    "plt.close()"
   ]
  }
 ],
 "metadata": {
  "kernelspec": {
   "display_name": "Python 3 (ipykernel)",
   "language": "python",
   "name": "python3"
  },
  "language_info": {
   "codemirror_mode": {
    "name": "ipython",
    "version": 3
   },
   "file_extension": ".py",
   "mimetype": "text/x-python",
   "name": "python",
   "nbconvert_exporter": "python",
   "pygments_lexer": "ipython3",
   "version": "3.9.12"
  }
 },
 "nbformat": 4,
 "nbformat_minor": 5
}
