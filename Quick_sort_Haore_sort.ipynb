{
 "cells": [
  {
   "cell_type": "code",
   "execution_count": 48,
   "id": "01f90613",
   "metadata": {},
   "outputs": [
    {
     "data": {
      "text/plain": [
       "10000"
      ]
     },
     "execution_count": 48,
     "metadata": {},
     "output_type": "execute_result"
    }
   ],
   "source": [
    "import sys\n",
    "sys.setrecursionlimit(10000)\n",
    "sys.getrecursionlimit() \n",
    "\n",
    "\n"
   ]
  },
  {
   "cell_type": "code",
   "execution_count": 49,
   "id": "81238b02",
   "metadata": {},
   "outputs": [],
   "source": [
    "def Hoare_partition(arr, low, high):\n",
    " \n",
    "    pivot = arr[int((low + high)/2)]\n",
    "    print(\"pivot\" , pivot)\n",
    "    i = low - 1\n",
    "    j = high + 1\n",
    "    print(i,j)\n",
    " \n",
    "    while (True):\n",
    " \n",
    "        # Find leftmost element greater than\n",
    "        # or equal to pivot\n",
    "        i += 1\n",
    "        while (arr[i] < pivot):\n",
    "            i += 1\n",
    "            #print(i, arr[i])\n",
    " \n",
    "        # Find rightmost element smaller than\n",
    "        # or equal to pivot\n",
    "        j -= 1\n",
    "        while (arr[j] > pivot):\n",
    "            j -= 1\n",
    "            #print(j, arr[j])\n",
    " \n",
    "        # If two pointers met.\n",
    "        if (i >= j):\n",
    "            print(\"new pivot\", j , arr[j])\n",
    "            return j\n",
    "        \n",
    "        print(\"i,j:\", i, j)\n",
    " \n",
    "        arr[i], arr[j] = arr[j], arr[i]\n",
    "        print(arr)\n",
    "    \n",
    " "
   ]
  },
  {
   "cell_type": "code",
   "execution_count": 50,
   "id": "4bc2cdb8",
   "metadata": {},
   "outputs": [],
   "source": [
    "def Quick_sort(A , start, end):\n",
    "    \n",
    "    if start < end: \n",
    "        pivot =  Hoare_partition(A, start, end)\n",
    "        Quick_sort(A, start, pivot)\n",
    "        Quick_sort(A, pivot+1 , end)\n",
    "        \n",
    "        "
   ]
  },
  {
   "cell_type": "code",
   "execution_count": 51,
   "id": "ab9a61ed",
   "metadata": {},
   "outputs": [
    {
     "name": "stdout",
     "output_type": "stream",
     "text": [
      "pivot 2\n",
      "-1 5\n",
      "i,j: 0 4\n",
      "[1, 1, 2, 0, 4]\n",
      "i,j: 2 3\n",
      "[1, 1, 0, 2, 4]\n",
      "new pivot 2 0\n",
      "pivot 1\n",
      "-1 3\n",
      "i,j: 0 2\n",
      "[0, 1, 1, 2, 4]\n",
      "new pivot 1 1\n",
      "pivot 0\n",
      "-1 2\n",
      "new pivot 0 0\n",
      "pivot 2\n",
      "2 5\n",
      "new pivot 3 2\n",
      "[0, 1, 1, 2, 4]\n"
     ]
    }
   ],
   "source": [
    "A = [4, 1 , 2, 0 , 1]\n",
    "n = len(A)\n",
    "Quick_sort(A, 0 , n-1)\n",
    "print(A)\n"
   ]
  },
  {
   "cell_type": "code",
   "execution_count": null,
   "id": "ab32fd35",
   "metadata": {},
   "outputs": [],
   "source": []
  },
  {
   "cell_type": "code",
   "execution_count": null,
   "id": "a8dbcf4f",
   "metadata": {},
   "outputs": [],
   "source": []
  }
 ],
 "metadata": {
  "kernelspec": {
   "display_name": "Python 3 (ipykernel)",
   "language": "python",
   "name": "python3"
  },
  "language_info": {
   "codemirror_mode": {
    "name": "ipython",
    "version": 3
   },
   "file_extension": ".py",
   "mimetype": "text/x-python",
   "name": "python",
   "nbconvert_exporter": "python",
   "pygments_lexer": "ipython3",
   "version": "3.9.12"
  }
 },
 "nbformat": 4,
 "nbformat_minor": 5
}
