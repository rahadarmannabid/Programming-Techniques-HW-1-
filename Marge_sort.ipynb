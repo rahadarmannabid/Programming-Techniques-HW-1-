{
 "cells": [
  {
   "cell_type": "code",
   "execution_count": 1,
   "id": "ba62000e",
   "metadata": {},
   "outputs": [
    {
     "ename": "ModuleNotFoundError",
     "evalue": "No module named 'matplotlib'",
     "output_type": "error",
     "traceback": [
      "\u001b[0;31m---------------------------------------------------------------------------\u001b[0m",
      "\u001b[0;31mModuleNotFoundError\u001b[0m                       Traceback (most recent call last)",
      "Cell \u001b[0;32mIn [1], line 3\u001b[0m\n\u001b[1;32m      1\u001b[0m \u001b[39mimport\u001b[39;00m \u001b[39mrandom\u001b[39;00m\n\u001b[1;32m      2\u001b[0m \u001b[39mimport\u001b[39;00m \u001b[39mtime\u001b[39;00m\n\u001b[0;32m----> 3\u001b[0m \u001b[39mimport\u001b[39;00m \u001b[39mmatplotlib\u001b[39;00m\u001b[39m.\u001b[39;00m\u001b[39mpyplot\u001b[39;00m \u001b[39mas\u001b[39;00m \u001b[39mplt\u001b[39;00m\n",
      "\u001b[0;31mModuleNotFoundError\u001b[0m: No module named 'matplotlib'"
     ]
    }
   ],
   "source": [
    "import random\n",
    "import time\n",
    "import matplotlib.pyplot as plt"
   ]
  },
  {
   "cell_type": "code",
   "execution_count": null,
   "id": "a8a4e34a",
   "metadata": {},
   "outputs": [],
   "source": [
    "def merge_sort(A, left, right):\n",
    "    if left < right:  \n",
    "        mid  = left + (right - left) //2 \n",
    "        #print(A[left: right + 1], left, mid, right)\n",
    "        merge_sort(A, left, mid )\n",
    "        merge_sort(A, mid + 1, right)\n",
    "        merge(A, left, mid, right)"
   ]
  },
  {
   "cell_type": "code",
   "execution_count": null,
   "id": "1749c328",
   "metadata": {},
   "outputs": [],
   "source": [
    "def merge(arr, l, m, r):\n",
    "    n1 = m - l + 1\n",
    "    n2 = r - m\n",
    "    L = [0] * (n1)\n",
    "    R = [0] * (n2)\n",
    "\n",
    "    for i in range(0, n1):\n",
    "        L[i] = arr[l + i]\n",
    " \n",
    "    for j in range(0, n2):\n",
    "        R[j] = arr[m + 1 + j]\n",
    "\n",
    "    i = 0     \n",
    "    j = 0     \n",
    "    k = l     \n",
    " \n",
    "    while i < n1 and j < n2:\n",
    "        if L[i] <= R[j]:\n",
    "            arr[k] = L[i]\n",
    "            i += 1\n",
    "        else:\n",
    "            arr[k] = R[j]\n",
    "            j += 1\n",
    "        k += 1\n",
    "    \n",
    "    while i < n1:\n",
    "        arr[k] = L[i]\n",
    "        i += 1\n",
    "        k += 1\n",
    " \n",
    "    \n",
    "    while j < n2:\n",
    "        arr[k] = R[j]\n",
    "        j += 1\n",
    "        k += 1\n",
    "    #print(arr)"
   ]
  },
  {
   "cell_type": "markdown",
   "id": "1e2d1d4f",
   "metadata": {},
   "source": [
    "arr = [ 3, 1, 4 , 1, 2, 9, 0, 10]\n",
    "length = len(arr)\n",
    "n = length - 1\n",
    "merge_sort(arr, 0 , n)"
   ]
  },
  {
   "cell_type": "code",
   "execution_count": null,
   "id": "25fa9698",
   "metadata": {},
   "outputs": [
    {
     "name": "stdout",
     "output_type": "stream",
     "text": [
      "Best Case Execution time: 0.00020694732666015625 seconds\n"
     ]
    }
   ],
   "source": [
    "Best_case = [0, 1, 2, 3 , 4 , 5 , 6 , 7]\n",
    "length = len(Best_case)\n",
    "n = length - 1\n",
    "\n",
    "st = time.time()\n",
    "merge_sort(Best_case, 0 , n) \n",
    "et = time.time()\n",
    "elapsed_time = et - st\n",
    "print('Best Case Execution time:', elapsed_time, 'seconds')"
   ]
  },
  {
   "cell_type": "code",
   "execution_count": null,
   "id": "d53d5682",
   "metadata": {},
   "outputs": [
    {
     "name": "stdout",
     "output_type": "stream",
     "text": [
      "Worst Case Execution time: 0.00020813941955566406 seconds\n"
     ]
    }
   ],
   "source": [
    "worst_case = [0, 2, 4, 6, 1, 3, 5, 7]\n",
    "length = len(worst_case)\n",
    "n = length - 1\n",
    "\n",
    "st = time.time()\n",
    "merge_sort(worst_case, 0 , n)\n",
    "et = time.time()\n",
    "elapsed_time = et - st\n",
    "print('Worst Case Execution time:', elapsed_time, 'seconds')\n",
    "\n"
   ]
  },
  {
   "cell_type": "code",
   "execution_count": null,
   "id": "5a2ffc37",
   "metadata": {},
   "outputs": [
    {
     "name": "stdout",
     "output_type": "stream",
     "text": [
      "Avg Case Execution time: 0.0002110004425048828 seconds\n"
     ]
    }
   ],
   "source": [
    "avg_case = [0 , 1, 2 , 3, 7, 6, 5, 4 ]\n",
    "length = len(avg_case)\n",
    "n = length - 1\n",
    "\n",
    "st = time.time()\n",
    "merge_sort(avg_case, 0 , n) \n",
    "et = time.time()\n",
    "elapsed_time = et - st\n",
    "print('Avg Case Execution time:', elapsed_time, 'seconds')\n"
   ]
  },
  {
   "cell_type": "code",
   "execution_count": null,
   "id": "c80eb321",
   "metadata": {},
   "outputs": [
    {
     "name": "stdout",
     "output_type": "stream",
     "text": [
      "When input is 10 : Execution time: 5.0067901611328125e-05 seconds\n",
      "When input is 1000 : Execution time: 0.009556055068969727 seconds\n",
      "When input is 5000 : Execution time: 0.025583982467651367 seconds\n",
      "When input is 10000 : Execution time: 0.04241204261779785 seconds\n"
     ]
    }
   ],
   "source": [
    "input_list = [10, 1000, 5000, 10000]\n",
    "time_taken = []\n",
    "\n",
    "for i in input_list:\n",
    "    random.seed(10)\n",
    "    randomlist = random.sample(range(0 , i), i)\n",
    "    length = len(randomlist)\n",
    "    n = length - 1\n",
    "    st = time.time()\n",
    "    merge_sort(randomlist, 0 , n) \n",
    "    et = time.time()\n",
    "    elapsed_time = et - st\n",
    "    time_taken.append(elapsed_time)\n",
    "    print('When input is', i ,': Execution time:', elapsed_time, 'seconds')"
   ]
  },
  {
   "cell_type": "markdown",
   "id": "10c03538",
   "metadata": {},
   "source": [
    "plt.figure(figsize=(10,10))\n",
    "plt.plot(input_list,time_taken, 'ro')\n",
    "plt.xticks(input_list)\n",
    "plt.yticks(time_taken)\n",
    "plt.xlabel(\"input size\")\n",
    "plt.ylabel(\"time taken for sorting\")\n",
    "plt.savefig('merge_sort.png') \n",
    "plt.show()\n",
    "plt.close()"
   ]
  }
 ],
 "metadata": {
  "kernelspec": {
   "display_name": "Python 3.9.6 64-bit",
   "language": "python",
   "name": "python3"
  },
  "language_info": {
   "codemirror_mode": {
    "name": "ipython",
    "version": 3
   },
   "file_extension": ".py",
   "mimetype": "text/x-python",
   "name": "python",
   "nbconvert_exporter": "python",
   "pygments_lexer": "ipython3",
   "version": "3.9.6"
  },
  "vscode": {
   "interpreter": {
    "hash": "31f2aee4e71d21fbe5cf8b01ff0e069b9275f58929596ceb00d14d90e3e16cd6"
   }
  }
 },
 "nbformat": 4,
 "nbformat_minor": 5
}
