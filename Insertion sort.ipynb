{
 "cells": [
  {
   "cell_type": "code",
   "execution_count": 1,
   "id": "739795ea",
   "metadata": {},
   "outputs": [],
   "source": [
    "import random\n",
    "import time\n",
    "import matplotlib.pyplot as plt"
   ]
  },
  {
   "cell_type": "code",
   "execution_count": 2,
   "id": "90257d58",
   "metadata": {},
   "outputs": [],
   "source": [
    "def insert_sort(A):\n",
    "    for j in range(1, len(A)):\n",
    "        key = A[j]\n",
    "        i = j - 1\n",
    "        while i>= 0 and A[i]> key:\n",
    "            A[i+1] = A[i]\n",
    "            i = i - 1\n",
    "        A[i + 1] = key\n",
    "#     print(A)"
   ]
  },
  {
   "cell_type": "code",
   "execution_count": 3,
   "id": "2977d488",
   "metadata": {},
   "outputs": [
    {
     "name": "stdout",
     "output_type": "stream",
     "text": [
      "Best Case Execution time: 2.8133392333984375e-05 seconds\n"
     ]
    }
   ],
   "source": [
    "Best_case = [0 ,1, 2, 3, 4, 5, 6 , 7]\n",
    "\n",
    "st = time.time()\n",
    "insert_sort(Best_case) \n",
    "et = time.time()\n",
    "elapsed_time = et - st\n",
    "print('Best Case Execution time:', elapsed_time, 'seconds')\n"
   ]
  },
  {
   "cell_type": "code",
   "execution_count": 4,
   "id": "10544009",
   "metadata": {},
   "outputs": [
    {
     "name": "stdout",
     "output_type": "stream",
     "text": [
      "Worst Case Execution time: 3.0994415283203125e-05 seconds\n"
     ]
    }
   ],
   "source": [
    "worst_case = [7, 6, 5, 4, 3, 2, 1, 0]\n",
    "\n",
    "st = time.time()\n",
    "insert_sort(worst_case) \n",
    "et = time.time()\n",
    "elapsed_time = et - st\n",
    "print('Worst Case Execution time:', elapsed_time, 'seconds')\n"
   ]
  },
  {
   "cell_type": "code",
   "execution_count": 5,
   "id": "6531da5e",
   "metadata": {},
   "outputs": [
    {
     "name": "stdout",
     "output_type": "stream",
     "text": [
      "Avg Case Execution time: 3.0040740966796875e-05 seconds\n"
     ]
    }
   ],
   "source": [
    "avg_case = [0 , 1, 2, 3, 7, 6, 5, 4]\n",
    "\n",
    "st = time.time()\n",
    "insert_sort(avg_case) \n",
    "et = time.time()\n",
    "elapsed_time = et - st\n",
    "print('Avg Case Execution time:', elapsed_time, 'seconds')\n"
   ]
  },
  {
   "cell_type": "code",
   "execution_count": 6,
   "id": "d3305b50",
   "metadata": {},
   "outputs": [
    {
     "name": "stdout",
     "output_type": "stream",
     "text": [
      "When input is 10 :Execution time: 5.0067901611328125e-06 seconds\n",
      "When input is 1000 :Execution time: 0.029571056365966797 seconds\n",
      "When input is 5000 :Execution time: 0.773597002029419 seconds\n",
      "When input is 10000 :Execution time: 3.076284170150757 seconds\n"
     ]
    }
   ],
   "source": [
    "input_list = [10, 1000, 5000, 10000]\n",
    "time_taken = []\n",
    "for i in input_list:\n",
    "    random.seed(10)\n",
    "    randomlist = random.sample(range(0 , i), i)\n",
    "    st = time.time()\n",
    "    insert_sort(randomlist) \n",
    "    et = time.time()\n",
    "    elapsed_time = et - st\n",
    "    time_taken.append(elapsed_time)\n",
    "    print('When input is', i ,':Execution time:', elapsed_time, 'seconds')"
   ]
  },
  {
   "cell_type": "code",
   "execution_count": 8,
   "id": "696279fa",
   "metadata": {},
   "outputs": [
    {
     "data": {
      "image/png": "[encoded data removed]",
      "text/plain": [
       "<Figure size 720x1440 with 1 Axes>"
      ]
     },
     "metadata": {
      "needs_background": "light"
     },
     "output_type": "display_data"
    }
   ],
   "source": [
    "plt.figure(figsize=(10,20))\n",
    "plt.plot(input_list,time_taken, 'ro')\n",
    "plt.xticks(input_list)\n",
    "plt.yticks(time_taken)\n",
    "plt.xlabel(\"input size\")\n",
    "plt.ylabel(\"time taken for sorting\")\n",
    "plt.savefig('insert_sort img.png') \n",
    "plt.show()\n",
    "plt.close()"
   ]
  },
  {
   "cell_type": "code",
   "execution_count": null,
   "id": "48a59a27",
   "metadata": {},
   "outputs": [],
   "source": []
  }
 ],
 "metadata": {
  "kernelspec": {
   "display_name": "Python 3 (ipykernel)",
   "language": "python",
   "name": "python3"
  },
  "language_info": {
   "codemirror_mode": {
    "name": "ipython",
    "version": 3
   },
   "file_extension": ".py",
   "mimetype": "text/x-python",
   "name": "python",
   "nbconvert_exporter": "python",
   "pygments_lexer": "ipython3",
   "version": "3.9.12"
  }
 },
 "nbformat": 4,
 "nbformat_minor": 5
}
