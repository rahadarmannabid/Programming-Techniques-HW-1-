{
 "cells": [
  {
   "cell_type": "code",
   "execution_count": 2,
   "id": "739795ea",
   "metadata": {},
   "outputs": [],
   "source": [
    "import random\n",
    "import time\n",
    "\n"
   ]
  },
  {
   "cell_type": "code",
   "execution_count": 3,
   "id": "90257d58",
   "metadata": {},
   "outputs": [],
   "source": [
    "def insert_sort(A):\n",
    "    for j in range(1, len(A)):\n",
    "        key = A[j]\n",
    "        i = j - 1\n",
    "        while i>= 0 and A[i]> key:\n",
    "            A[i+1] = A[i]\n",
    "            i = i - 1\n",
    "        A[i + 1] = key\n",
    "    print(A)\n",
    "\n",
    "\n"
   ]
  },
  {
   "cell_type": "code",
   "execution_count": 4,
   "id": "2977d488",
   "metadata": {},
   "outputs": [
    {
     "name": "stdout",
     "output_type": "stream",
     "text": [
      "[1, 2, 6, 7, 8, 9]\n",
      "Best Execution time: 0.00038814544677734375 seconds\n",
      "[1, 2, 6, 7, 8, 9]\n",
      "Worst Execution time: 0.0001289844512939453 seconds\n",
      "[1, 2, 6, 7, 8, 9]\n",
      "Avg Execution time: 0.0001270771026611328 seconds\n"
     ]
    }
   ],
   "source": [
    "Best_case = [1, 2, 6 , 7 , 8 , 9]\n",
    "worst_case = [9, 8 , 7, 6, 2, 1]\n",
    "avg_case = [1, 2 , 6, 9 , 8 , 7]\n",
    "\n",
    "\n",
    "st = time.time()\n",
    "insert_sort(Best_case) \n",
    "et = time.time()\n",
    "elapsed_time = et - st\n",
    "print('Best Execution time:', elapsed_time, 'seconds')\n",
    "\n",
    "st = time.time()\n",
    "insert_sort(worst_case) \n",
    "et = time.time()\n",
    "elapsed_time = et - st\n",
    "print('Worst Execution time:', elapsed_time, 'seconds')\n",
    "\n",
    "st = time.time()\n",
    "insert_sort(avg_case) \n",
    "et = time.time()\n",
    "elapsed_time = et - st\n",
    "print('Avg Execution time:', elapsed_time, 'seconds')"
   ]
  },
  {
   "cell_type": "code",
   "execution_count": null,
   "id": "10544009",
   "metadata": {},
   "outputs": [],
   "source": []
  }
 ],
 "metadata": {
  "kernelspec": {
   "display_name": "Python 3 (ipykernel)",
   "language": "python",
   "name": "python3"
  },
  "language_info": {
   "codemirror_mode": {
    "name": "ipython",
    "version": 3
   },
   "file_extension": ".py",
   "mimetype": "text/x-python",
   "name": "python",
   "nbconvert_exporter": "python",
   "pygments_lexer": "ipython3",
   "version": "3.9.12"
  }
 },
 "nbformat": 4,
 "nbformat_minor": 5
}
